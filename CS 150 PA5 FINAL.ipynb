{
 "cells": [
  {
   "cell_type": "code",
   "execution_count": 53,
   "id": "9b47fb82",
   "metadata": {},
   "outputs": [
    {
     "name": "stdout",
     "output_type": "stream",
     "text": [
      "Enter the length of the base: 10\n",
      "Enter the length of the height: 10\n",
      "Enter the length of the third side: 10\n",
      "The area of the triangle is approximately  50.0 square units\n",
      "The perimeter of the trinagle is  30 linear units\n"
     ]
    }
   ],
   "source": [
    "def area_triangle(b,h,a):\n",
    "    return (b*h)/2\n",
    "\n",
    "def perimeter_triangle(b,h,a):\n",
    "    return (b+h+a)\n",
    "\n",
    "b=int(input(\"Enter the length of the base: \"))\n",
    "h=int(input(\"Enter the length of the height: \"))\n",
    "a=int(input(\"Enter the length of the third side: \"))\n",
    "print(\"The area of the triangle is approximately \", area_triangle(b,h,a), \"square units\")\n",
    "print(\"The perimeter of the trinagle is \", perimeter_triangle(b,h,a), \"linear units\")"
   ]
  },
  {
   "cell_type": "code",
   "execution_count": null,
   "id": "074ed2a0",
   "metadata": {},
   "outputs": [
    {
     "name": "stdout",
     "output_type": "stream",
     "text": [
      "Enter a number between 1 and 1000: 1\n",
      "Too low! Guess again\n",
      "Enter a number between 1 and 1000: 2\n",
      "Too low! Guess again\n",
      "Enter a number between 1 and 1000: 3\n",
      "Too low! Guess again\n",
      "Enter a number between 1 and 1000: 4\n",
      "Too low! Guess again\n",
      "Enter a number between 1 and 1000: 5\n",
      "Too low! Guess again\n",
      "Enter a number between 1 and 1000: 6\n",
      "Too low! Guess again\n",
      "Enter a number between 1 and 1000: 7\n",
      "Too low! Guess again\n",
      "Enter a number between 1 and 1000: 8\n",
      "Too low! Guess again\n",
      "Enter a number between 1 and 1000: 9\n",
      "Too low! Guess again\n",
      "Enter a number between 1 and 1000: 10\n",
      "Too low! Guess again\n"
     ]
    }
   ],
   "source": [
    "import random\n",
    "x=random.randint(1,1000)\n",
    "x\n",
    "flag=True\n",
    "while True:\n",
    "    guess=int(input(\"Enter a number between 1 and 1000: \"))\n",
    "    if guess<x:\n",
    "        print(\"Too low! Guess again\")\n",
    "    elif guess>x:\n",
    "        print(\"Too high! Guess again\")\n",
    "    else:\n",
    "        print(\"Correct!\")"
   ]
  },
  {
   "cell_type": "code",
   "execution_count": 56,
   "id": "d1a64a97",
   "metadata": {},
   "outputs": [
    {
     "name": "stdout",
     "output_type": "stream",
     "text": [
      "The mean temperature for the past  7 days is  74.14285714285714 degrees F.\n"
     ]
    }
   ],
   "source": [
    "def meanTemp(temps):\n",
    "    return sum(temps)/len(temps)\n",
    "temps=[67,76,78,81,73,65,79]\n",
    "print(\"The mean temperature for the past \", len(temps), \"days is \", meanTemp(temps), \"degrees F.\")"
   ]
  },
  {
   "cell_type": "markdown",
   "id": "befe3c72",
   "metadata": {},
   "source": [
    "# PA_5\n",
    "## Braden Heuglin\n",
    "### Version 1\n",
    "#### Fall 2022 CS 150"
   ]
  }
 ],
 "metadata": {
  "kernelspec": {
   "display_name": "Python 3 (ipykernel)",
   "language": "python",
   "name": "python3"
  },
  "language_info": {
   "codemirror_mode": {
    "name": "ipython",
    "version": 3
   },
   "file_extension": ".py",
   "mimetype": "text/x-python",
   "name": "python",
   "nbconvert_exporter": "python",
   "pygments_lexer": "ipython3",
   "version": "3.9.12"
  }
 },
 "nbformat": 4,
 "nbformat_minor": 5
}
